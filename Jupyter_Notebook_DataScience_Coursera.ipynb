{
  "metadata": {
    "language_info": {
      "codemirror_mode": {
        "name": "python",
        "version": 3
      },
      "file_extension": ".py",
      "mimetype": "text/x-python",
      "name": "python",
      "nbconvert_exporter": "python",
      "pygments_lexer": "ipython3",
      "version": "3.8"
    },
    "kernelspec": {
      "name": "python",
      "display_name": "Pyolite",
      "language": "python"
    }
  },
  "nbformat_minor": 4,
  "nbformat": 4,
  "cells": [
    {
      "cell_type": "markdown",
      "source": "# My Jupyter Notebook on IBM Watson Studio",
      "metadata": {}
    },
    {
      "cell_type": "markdown",
      "source": "__Shikha Popali__\n\nData Science Engineer",
      "metadata": {}
    },
    {
      "cell_type": "markdown",
      "source": "*I am intrested in data science because along with a good career scope in this domain, it also helps speedup my brain activity and help me stay curious and creative all time.*",
      "metadata": {}
    },
    {
      "cell_type": "markdown",
      "source": "### The following code displays the line of 10 * (stars) ###",
      "metadata": {}
    },
    {
      "cell_type": "code",
      "source": "\"*\"*10",
      "metadata": {
        "trusted": true
      },
      "execution_count": 1,
      "outputs": [
        {
          "execution_count": 1,
          "output_type": "execute_result",
          "data": {
            "text/plain": "'**********'"
          },
          "metadata": {}
        }
      ]
    },
    {
      "cell_type": "markdown",
      "source": "Click the link below the Horizontal line (rule) to go to IBM Watson Studio\n\n---\n[IBM Watson Studio](https://www.ibm.com/cloud/watson-studio)",
      "metadata": {}
    },
    {
      "cell_type": "markdown",
      "source": "> Data is the new science",
      "metadata": {}
    },
    {
      "cell_type": "markdown",
      "source": "* Item 1\n* Item 2\n* Item 3",
      "metadata": {}
    },
    {
      "cell_type": "code",
      "source": "",
      "metadata": {},
      "execution_count": null,
      "outputs": []
    }
  ]
}